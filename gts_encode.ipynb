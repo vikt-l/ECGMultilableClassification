{
 "cells": [
  {
   "cell_type": "code",
   "execution_count": 2,
   "id": "6516d41b",
   "metadata": {
    "scrolled": true
   },
   "outputs": [],
   "source": [
    "import pandas as pd\n",
    "from sklearn.model_selection import train_test_split\n",
    "from sklearn.metrics import f1_score, accuracy_score, precision_score, recall_score\n",
    "from catboost import CatBoostClassifier\n",
    "from numpy import*\n",
    "from category_encoders.target_encoder import TargetEncoder"
   ]
  },
  {
   "cell_type": "code",
   "execution_count": 27,
   "id": "2b7a6084",
   "metadata": {},
   "outputs": [],
   "source": [
    "df = pd.read_csv('train/train_meta.csv')\n",
    "#общие метаданные\n",
    "df_local = pd.read_csv('train/train_gts_final.csv')\n",
    "#метки локализации инфаркта/его отсутствия\n",
    "df_myocard = pd.read_csv('train/train_gts.csv')\n",
    "#инфаркт/его отсутствие"
   ]
  },
  {
   "cell_type": "markdown",
   "id": "81b108e5",
   "metadata": {},
   "source": [
    "### Преобразование в строковые, сложение и применение целевого кодирования"
   ]
  },
  {
   "cell_type": "code",
   "execution_count": 265,
   "id": "17714ff0",
   "metadata": {},
   "outputs": [],
   "source": [
    "pred_value = df_local['перегородочный'].astype(str) + '_' + df_local['передний'].astype(str) \\\n",
    "    + '_' + df_local['боковой'].astype(str) + '_' + df_local['передне-боковой'].astype(str) \\\n",
    "    + '_' + df_local['передне-перегородочный'].astype(str) + '_' + df_local['нижний'].astype(str) \\\n",
    "    + '_' + df_local['норма'].astype(str)\n",
    "df_local.insert(0, 'pred_value', pred_value)\n",
    "#объединение предсказываемых величин\n",
    "\n",
    "target_encoder_pred_value = TargetEncoder()\n",
    "target_encoder_pred_value.fit(df_local.pred_value, df_gts['myocard'])\n",
    "target_encoded_pred_value = target_encoder_pred_value.transform(df_local.pred_value)\n",
    "df_local.pred_value = target_encoded_pred_value.astype('float')\n",
    "\n",
    "df_local.drop(['перегородочный', 'передний', 'боковой', 'передне-боковой', 'передне-перегородочный',\n",
    "               'нижний', 'норма', 'record_name'], axis= 1 , inplace= True )"
   ]
  },
  {
   "cell_type": "code",
   "execution_count": 266,
   "id": "e76bee87",
   "metadata": {},
   "outputs": [
    {
     "data": {
      "text/plain": [
       "pred_value\n",
       "0.000000      1686\n",
       "0.999999       159\n",
       "0.999338        91\n",
       "0.949465        47\n",
       "0.904343        40\n",
       "0.481877        28\n",
       "0.697033        25\n",
       "0.429481        11\n",
       "0.383278         8\n",
       "0.321480         3\n",
       "0.311357         2\n",
       "0.301934         1\n",
       "dtype: int64"
      ]
     },
     "execution_count": 266,
     "metadata": {},
     "output_type": "execute_result"
    }
   ],
   "source": [
    "df_local.value_counts()"
   ]
  },
  {
   "cell_type": "markdown",
   "id": "dcb40bf2",
   "metadata": {},
   "source": [
    "### Преобразование в строковые и сложение"
   ]
  },
  {
   "cell_type": "code",
   "execution_count": 284,
   "id": "6d2405e1",
   "metadata": {},
   "outputs": [],
   "source": [
    "df_local = pd.read_csv('train/train_gts_final.csv')\n",
    "#метки локализации инфаркта/его отсутствия"
   ]
  },
  {
   "cell_type": "code",
   "execution_count": 28,
   "id": "583841bd",
   "metadata": {},
   "outputs": [],
   "source": [
    "pred_value = df_local['перегородочный'].astype(str) + df_local['передний'].astype(str) \\\n",
    "    + df_local['боковой'].astype(str) + df_local['передне-боковой'].astype(str) \\\n",
    "    + df_local['передне-перегородочный'].astype(str) + df_local['нижний'].astype(str) \\\n",
    "    + df_local['норма'].astype(str)\n",
    "df_local.insert(0, 'pred_value', pred_value)\n",
    "#объединение предсказываемых величин\n",
    "\n",
    "df_local.drop(['перегородочный', 'передний', 'боковой', 'передне-боковой', 'передне-перегородочный',\n",
    "               'нижний', 'норма', 'record_name'], axis= 1 , inplace= True )"
   ]
  },
  {
   "cell_type": "code",
   "execution_count": 29,
   "id": "3484fb3c",
   "metadata": {},
   "outputs": [
    {
     "data": {
      "text/plain": [
       "pred_value\n",
       "0000001       1686\n",
       "0000010        159\n",
       "0000100         91\n",
       "1000000         47\n",
       "0100000         40\n",
       "0000110         25\n",
       "0001000         14\n",
       "0100010         14\n",
       "1000010         11\n",
       "0001010          8\n",
       "0001100          3\n",
       "0010000          2\n",
       "0101010          1\n",
       "dtype: int64"
      ]
     },
     "execution_count": 29,
     "metadata": {},
     "output_type": "execute_result"
    }
   ],
   "source": [
    "df_local.value_counts()"
   ]
  },
  {
   "cell_type": "code",
   "execution_count": 30,
   "id": "d1ddd4cc",
   "metadata": {},
   "outputs": [
    {
     "ename": "ValueError",
     "evalue": "Unexpected input shape: (2101, 2)",
     "output_type": "error",
     "traceback": [
      "\u001b[1;31m---------------------------------------------------------------------------\u001b[0m",
      "\u001b[1;31mValueError\u001b[0m                                Traceback (most recent call last)",
      "Cell \u001b[1;32mIn[30], line 7\u001b[0m\n\u001b[0;32m      4\u001b[0m \u001b[38;5;66;03m#объединение данных веса, роста, возраста и пола(во избежание переобучения)\u001b[39;00m\n\u001b[0;32m      6\u001b[0m target_encoder_combo_info \u001b[38;5;241m=\u001b[39m TargetEncoder()\n\u001b[1;32m----> 7\u001b[0m target_encoder_combo_info\u001b[38;5;241m.\u001b[39mfit(df\u001b[38;5;241m.\u001b[39mcombo_info, df_myocard)\n\u001b[0;32m      8\u001b[0m target_encoded_combo_info \u001b[38;5;241m=\u001b[39m target_encoder_combo_info\u001b[38;5;241m.\u001b[39mtransform(df\u001b[38;5;241m.\u001b[39mcombo_info)\n\u001b[0;32m      9\u001b[0m df\u001b[38;5;241m.\u001b[39mcombo_info \u001b[38;5;241m=\u001b[39m target_encoded_combo_info\u001b[38;5;241m.\u001b[39mastype(\u001b[38;5;124m'\u001b[39m\u001b[38;5;124mfloat\u001b[39m\u001b[38;5;124m'\u001b[39m)\n",
      "File \u001b[1;32mC:\\Anaconda3\\Lib\\site-packages\\category_encoders\\utils.py:294\u001b[0m, in \u001b[0;36mBaseEncoder.fit\u001b[1;34m(self, X, y, **kwargs)\u001b[0m\n\u001b[0;32m    275\u001b[0m \u001b[38;5;250m\u001b[39m\u001b[38;5;124;03m\"\"\"Fits the encoder according to X and y.\u001b[39;00m\n\u001b[0;32m    276\u001b[0m \u001b[38;5;124;03m\u001b[39;00m\n\u001b[0;32m    277\u001b[0m \u001b[38;5;124;03mParameters\u001b[39;00m\n\u001b[1;32m   (...)\u001b[0m\n\u001b[0;32m    291\u001b[0m \n\u001b[0;32m    292\u001b[0m \u001b[38;5;124;03m\"\"\"\u001b[39;00m\n\u001b[0;32m    293\u001b[0m \u001b[38;5;28mself\u001b[39m\u001b[38;5;241m.\u001b[39m_check_fit_inputs(X, y)\n\u001b[1;32m--> 294\u001b[0m X, y \u001b[38;5;241m=\u001b[39m convert_inputs(X, y)\n\u001b[0;32m    295\u001b[0m \u001b[38;5;28mself\u001b[39m\u001b[38;5;241m.\u001b[39mfeature_names_in_ \u001b[38;5;241m=\u001b[39m X\u001b[38;5;241m.\u001b[39mcolumns\u001b[38;5;241m.\u001b[39mtolist()\n\u001b[0;32m    296\u001b[0m \u001b[38;5;28mself\u001b[39m\u001b[38;5;241m.\u001b[39mn_features_in_ \u001b[38;5;241m=\u001b[39m \u001b[38;5;28mlen\u001b[39m(\u001b[38;5;28mself\u001b[39m\u001b[38;5;241m.\u001b[39mfeature_names_in_)\n",
      "File \u001b[1;32mC:\\Anaconda3\\Lib\\site-packages\\category_encoders\\utils.py:79\u001b[0m, in \u001b[0;36mconvert_inputs\u001b[1;34m(X, y, columns, index, deep)\u001b[0m\n\u001b[0;32m     77\u001b[0m X \u001b[38;5;241m=\u001b[39m convert_input(X, columns\u001b[38;5;241m=\u001b[39mcolumns, deep\u001b[38;5;241m=\u001b[39mdeep, index\u001b[38;5;241m=\u001b[39mX_alt_index)\n\u001b[0;32m     78\u001b[0m \u001b[38;5;28;01mif\u001b[39;00m y \u001b[38;5;129;01mis\u001b[39;00m \u001b[38;5;129;01mnot\u001b[39;00m \u001b[38;5;28;01mNone\u001b[39;00m:\n\u001b[1;32m---> 79\u001b[0m     y \u001b[38;5;241m=\u001b[39m convert_input_vector(y, index\u001b[38;5;241m=\u001b[39mX\u001b[38;5;241m.\u001b[39mindex)\n\u001b[0;32m     80\u001b[0m     \u001b[38;5;66;03m# N.B.: If either was already pandas, it keeps its index.\u001b[39;00m\n\u001b[0;32m     82\u001b[0m     \u001b[38;5;28;01mif\u001b[39;00m \u001b[38;5;28many\u001b[39m(X\u001b[38;5;241m.\u001b[39mindex \u001b[38;5;241m!=\u001b[39m y\u001b[38;5;241m.\u001b[39mindex):\n",
      "File \u001b[1;32mC:\\Anaconda3\\Lib\\site-packages\\category_encoders\\utils.py:158\u001b[0m, in \u001b[0;36mconvert_input_vector\u001b[1;34m(y, index)\u001b[0m\n\u001b[0;32m    156\u001b[0m         \u001b[38;5;28;01mreturn\u001b[39;00m y\u001b[38;5;241m.\u001b[39miloc[:, \u001b[38;5;241m0\u001b[39m]\n\u001b[0;32m    157\u001b[0m     \u001b[38;5;28;01melse\u001b[39;00m:\n\u001b[1;32m--> 158\u001b[0m         \u001b[38;5;28;01mraise\u001b[39;00m \u001b[38;5;167;01mValueError\u001b[39;00m(\u001b[38;5;124mf\u001b[39m\u001b[38;5;124m'\u001b[39m\u001b[38;5;124mUnexpected input shape: \u001b[39m\u001b[38;5;132;01m{\u001b[39;00my\u001b[38;5;241m.\u001b[39mshape\u001b[38;5;132;01m}\u001b[39;00m\u001b[38;5;124m'\u001b[39m)\n\u001b[0;32m    159\u001b[0m \u001b[38;5;28;01melse\u001b[39;00m:\n\u001b[0;32m    160\u001b[0m     \u001b[38;5;28;01mreturn\u001b[39;00m pd\u001b[38;5;241m.\u001b[39mSeries(y, name\u001b[38;5;241m=\u001b[39m\u001b[38;5;124m'\u001b[39m\u001b[38;5;124mtarget\u001b[39m\u001b[38;5;124m'\u001b[39m, index\u001b[38;5;241m=\u001b[39mindex)\n",
      "\u001b[1;31mValueError\u001b[0m: Unexpected input shape: (2101, 2)"
     ]
    }
   ],
   "source": [
    "combo_info = df['weight'].astype(str) + '_' + df['height'].astype(str) \\\n",
    "    + '_' + df['age'].astype(str) + '_' + df['sex'].astype(str)\n",
    "df.insert(0, 'combo_info', combo_info)\n",
    "#объединение данных веса, роста, возраста и пола(во избежание переобучения)\n",
    "\n",
    "target_encoder_combo_info = TargetEncoder()\n",
    "target_encoder_combo_info.fit(df.combo_info, df_myocard)\n",
    "target_encoded_combo_info = target_encoder_combo_info.transform(df.combo_info)\n",
    "df.combo_info = target_encoded_combo_info.astype('float')"
   ]
  },
  {
   "cell_type": "code",
   "execution_count": 31,
   "id": "9e0f1542",
   "metadata": {},
   "outputs": [],
   "source": [
    "df.drop(['record_name', 'weight', 'height', 'age', 'sex'], axis= 1 , inplace= True )"
   ]
  },
  {
   "cell_type": "code",
   "execution_count": 25,
   "id": "91008701",
   "metadata": {},
   "outputs": [],
   "source": [
    "X_train, X_test, y_train, y_test = train_test_split(df, df_local, train_size=0.9, random_state=0)"
   ]
  },
  {
   "cell_type": "code",
   "execution_count": 26,
   "id": "982d89a8",
   "metadata": {},
   "outputs": [
    {
     "ename": "TypeError",
     "evalue": "unhashable type: 'numpy.ndarray'",
     "output_type": "error",
     "traceback": [
      "\u001b[1;31m---------------------------------------------------------------------------\u001b[0m",
      "\u001b[1;31mTypeError\u001b[0m                                 Traceback (most recent call last)",
      "Cell \u001b[1;32mIn[26], line 3\u001b[0m\n\u001b[0;32m      1\u001b[0m cat_meta \u001b[38;5;241m=\u001b[39m CatBoostClassifier(depth\u001b[38;5;241m=\u001b[39m\u001b[38;5;241m8\u001b[39m, learning_rate\u001b[38;5;241m=\u001b[39m\u001b[38;5;241m0.05\u001b[39m, verbose\u001b[38;5;241m=\u001b[39m\u001b[38;5;28;01mFalse\u001b[39;00m)\n\u001b[0;32m      2\u001b[0m \u001b[38;5;66;03m#loss_function='MultiClass',\u001b[39;00m\n\u001b[1;32m----> 3\u001b[0m cat_meta\u001b[38;5;241m.\u001b[39mfit(X_train, y_train)\n",
      "File \u001b[1;32mC:\\Anaconda3\\Lib\\site-packages\\catboost\\core.py:5100\u001b[0m, in \u001b[0;36mCatBoostClassifier.fit\u001b[1;34m(self, X, y, cat_features, text_features, embedding_features, sample_weight, baseline, use_best_model, eval_set, verbose, logging_level, plot, plot_file, column_description, verbose_eval, metric_period, silent, early_stopping_rounds, save_snapshot, snapshot_file, snapshot_interval, init_model, callbacks, log_cout, log_cerr)\u001b[0m\n\u001b[0;32m   5097\u001b[0m \u001b[38;5;28;01mif\u001b[39;00m \u001b[38;5;124m'\u001b[39m\u001b[38;5;124mloss_function\u001b[39m\u001b[38;5;124m'\u001b[39m \u001b[38;5;129;01min\u001b[39;00m params:\n\u001b[0;32m   5098\u001b[0m     CatBoostClassifier\u001b[38;5;241m.\u001b[39m_check_is_compatible_loss(params[\u001b[38;5;124m'\u001b[39m\u001b[38;5;124mloss_function\u001b[39m\u001b[38;5;124m'\u001b[39m])\n\u001b[1;32m-> 5100\u001b[0m \u001b[38;5;28mself\u001b[39m\u001b[38;5;241m.\u001b[39m_fit(X, y, cat_features, text_features, embedding_features, \u001b[38;5;28;01mNone\u001b[39;00m, sample_weight, \u001b[38;5;28;01mNone\u001b[39;00m, \u001b[38;5;28;01mNone\u001b[39;00m, \u001b[38;5;28;01mNone\u001b[39;00m, \u001b[38;5;28;01mNone\u001b[39;00m, baseline, use_best_model,\n\u001b[0;32m   5101\u001b[0m           eval_set, verbose, logging_level, plot, plot_file, column_description, verbose_eval, metric_period,\n\u001b[0;32m   5102\u001b[0m           silent, early_stopping_rounds, save_snapshot, snapshot_file, snapshot_interval, init_model, callbacks, log_cout, log_cerr)\n\u001b[0;32m   5103\u001b[0m \u001b[38;5;28;01mreturn\u001b[39;00m \u001b[38;5;28mself\u001b[39m\n",
      "File \u001b[1;32mC:\\Anaconda3\\Lib\\site-packages\\catboost\\core.py:2303\u001b[0m, in \u001b[0;36mCatBoost._fit\u001b[1;34m(self, X, y, cat_features, text_features, embedding_features, pairs, sample_weight, group_id, group_weight, subgroup_id, pairs_weight, baseline, use_best_model, eval_set, verbose, logging_level, plot, plot_file, column_description, verbose_eval, metric_period, silent, early_stopping_rounds, save_snapshot, snapshot_file, snapshot_interval, init_model, callbacks, log_cout, log_cerr)\u001b[0m\n\u001b[0;32m   2300\u001b[0m \u001b[38;5;28;01mif\u001b[39;00m y \u001b[38;5;129;01mis\u001b[39;00m \u001b[38;5;28;01mNone\u001b[39;00m \u001b[38;5;129;01mand\u001b[39;00m \u001b[38;5;129;01mnot\u001b[39;00m \u001b[38;5;28misinstance\u001b[39m(X, PATH_TYPES \u001b[38;5;241m+\u001b[39m (Pool,)):\n\u001b[0;32m   2301\u001b[0m     \u001b[38;5;28;01mraise\u001b[39;00m CatBoostError(\u001b[38;5;124m\"\u001b[39m\u001b[38;5;124my may be None only when X is an instance of catboost.Pool or string\u001b[39m\u001b[38;5;124m\"\u001b[39m)\n\u001b[1;32m-> 2303\u001b[0m train_params \u001b[38;5;241m=\u001b[39m \u001b[38;5;28mself\u001b[39m\u001b[38;5;241m.\u001b[39m_prepare_train_params(\n\u001b[0;32m   2304\u001b[0m     X\u001b[38;5;241m=\u001b[39mX, y\u001b[38;5;241m=\u001b[39my, cat_features\u001b[38;5;241m=\u001b[39mcat_features, text_features\u001b[38;5;241m=\u001b[39mtext_features, embedding_features\u001b[38;5;241m=\u001b[39membedding_features,\n\u001b[0;32m   2305\u001b[0m     pairs\u001b[38;5;241m=\u001b[39mpairs, sample_weight\u001b[38;5;241m=\u001b[39msample_weight, group_id\u001b[38;5;241m=\u001b[39mgroup_id, group_weight\u001b[38;5;241m=\u001b[39mgroup_weight,\n\u001b[0;32m   2306\u001b[0m     subgroup_id\u001b[38;5;241m=\u001b[39msubgroup_id, pairs_weight\u001b[38;5;241m=\u001b[39mpairs_weight, baseline\u001b[38;5;241m=\u001b[39mbaseline, use_best_model\u001b[38;5;241m=\u001b[39muse_best_model,\n\u001b[0;32m   2307\u001b[0m     eval_set\u001b[38;5;241m=\u001b[39meval_set, verbose\u001b[38;5;241m=\u001b[39mverbose, logging_level\u001b[38;5;241m=\u001b[39mlogging_level, plot\u001b[38;5;241m=\u001b[39mplot, plot_file\u001b[38;5;241m=\u001b[39mplot_file,\n\u001b[0;32m   2308\u001b[0m     column_description\u001b[38;5;241m=\u001b[39mcolumn_description, verbose_eval\u001b[38;5;241m=\u001b[39mverbose_eval, metric_period\u001b[38;5;241m=\u001b[39mmetric_period,\n\u001b[0;32m   2309\u001b[0m     silent\u001b[38;5;241m=\u001b[39msilent, early_stopping_rounds\u001b[38;5;241m=\u001b[39mearly_stopping_rounds, save_snapshot\u001b[38;5;241m=\u001b[39msave_snapshot,\n\u001b[0;32m   2310\u001b[0m     snapshot_file\u001b[38;5;241m=\u001b[39msnapshot_file, snapshot_interval\u001b[38;5;241m=\u001b[39msnapshot_interval, init_model\u001b[38;5;241m=\u001b[39minit_model,\n\u001b[0;32m   2311\u001b[0m     callbacks\u001b[38;5;241m=\u001b[39mcallbacks\n\u001b[0;32m   2312\u001b[0m )\n\u001b[0;32m   2313\u001b[0m params \u001b[38;5;241m=\u001b[39m train_params[\u001b[38;5;124m\"\u001b[39m\u001b[38;5;124mparams\u001b[39m\u001b[38;5;124m\"\u001b[39m]\n\u001b[0;32m   2314\u001b[0m train_pool \u001b[38;5;241m=\u001b[39m train_params[\u001b[38;5;124m\"\u001b[39m\u001b[38;5;124mtrain_pool\u001b[39m\u001b[38;5;124m\"\u001b[39m]\n",
      "File \u001b[1;32mC:\\Anaconda3\\Lib\\site-packages\\catboost\\core.py:2192\u001b[0m, in \u001b[0;36mCatBoost._prepare_train_params\u001b[1;34m(self, X, y, cat_features, text_features, embedding_features, pairs, sample_weight, group_id, group_weight, subgroup_id, pairs_weight, baseline, use_best_model, eval_set, verbose, logging_level, plot, plot_file, column_description, verbose_eval, metric_period, silent, early_stopping_rounds, save_snapshot, snapshot_file, snapshot_interval, init_model, callbacks)\u001b[0m\n\u001b[0;32m   2188\u001b[0m     \u001b[38;5;28;01mraise\u001b[39;00m CatBoostError(\u001b[38;5;124m\"\u001b[39m\u001b[38;5;124mX is empty.\u001b[39m\u001b[38;5;124m\"\u001b[39m)\n\u001b[0;32m   2190\u001b[0m allow_clear_pool \u001b[38;5;241m=\u001b[39m \u001b[38;5;129;01mnot\u001b[39;00m \u001b[38;5;28misinstance\u001b[39m(X, Pool)\n\u001b[1;32m-> 2192\u001b[0m params[\u001b[38;5;124m'\u001b[39m\u001b[38;5;124mloss_function\u001b[39m\u001b[38;5;124m'\u001b[39m] \u001b[38;5;241m=\u001b[39m _get_loss_function_for_train(\n\u001b[0;32m   2193\u001b[0m     params,\n\u001b[0;32m   2194\u001b[0m     \u001b[38;5;28mgetattr\u001b[39m(\u001b[38;5;28mself\u001b[39m, \u001b[38;5;124m'\u001b[39m\u001b[38;5;124m_estimator_type\u001b[39m\u001b[38;5;124m'\u001b[39m, \u001b[38;5;28;01mNone\u001b[39;00m),\n\u001b[0;32m   2195\u001b[0m     train_pool\n\u001b[0;32m   2196\u001b[0m )\n\u001b[0;32m   2198\u001b[0m metric_period, verbose, logging_level \u001b[38;5;241m=\u001b[39m _process_verbose(\n\u001b[0;32m   2199\u001b[0m     metric_period, verbose, logging_level, verbose_eval, silent)\n\u001b[0;32m   2201\u001b[0m \u001b[38;5;28;01mif\u001b[39;00m metric_period \u001b[38;5;129;01mis\u001b[39;00m \u001b[38;5;129;01mnot\u001b[39;00m \u001b[38;5;28;01mNone\u001b[39;00m:\n",
      "File \u001b[1;32mC:\\Anaconda3\\Lib\\site-packages\\catboost\\core.py:1633\u001b[0m, in \u001b[0;36m_get_loss_function_for_train\u001b[1;34m(params, estimator_type, train_pool)\u001b[0m\n\u001b[0;32m   1627\u001b[0m         \u001b[38;5;28;01mraise\u001b[39;00m CatBoostError(\u001b[38;5;124m'\u001b[39m\u001b[38;5;124mloss function has not been specified and cannot be deduced\u001b[39m\u001b[38;5;124m'\u001b[39m)\n\u001b[0;32m   1629\u001b[0m \u001b[38;5;250m    \u001b[39m\u001b[38;5;124;03m\"\"\"\u001b[39;00m\n\u001b[0;32m   1630\u001b[0m \u001b[38;5;124;03m        len(set) is faster than np.unique on Python lists:\u001b[39;00m\n\u001b[0;32m   1631\u001b[0m \u001b[38;5;124;03m         https://bbengfort.github.io/observations/2017/05/02/python-unique-benchmark.html\u001b[39;00m\n\u001b[0;32m   1632\u001b[0m \u001b[38;5;124;03m    \"\"\"\u001b[39;00m\n\u001b[1;32m-> 1633\u001b[0m     is_multiclass_task \u001b[38;5;241m=\u001b[39m \u001b[38;5;28mlen\u001b[39m(\u001b[38;5;28mset\u001b[39m(label)) \u001b[38;5;241m>\u001b[39m \u001b[38;5;241m2\u001b[39m \u001b[38;5;129;01mand\u001b[39;00m \u001b[38;5;124m'\u001b[39m\u001b[38;5;124mtarget_border\u001b[39m\u001b[38;5;124m'\u001b[39m \u001b[38;5;129;01mnot\u001b[39;00m \u001b[38;5;129;01min\u001b[39;00m params\n\u001b[0;32m   1634\u001b[0m     \u001b[38;5;28;01mreturn\u001b[39;00m \u001b[38;5;124m'\u001b[39m\u001b[38;5;124mMultiClass\u001b[39m\u001b[38;5;124m'\u001b[39m \u001b[38;5;28;01mif\u001b[39;00m is_multiclass_task \u001b[38;5;28;01melse\u001b[39;00m \u001b[38;5;124m'\u001b[39m\u001b[38;5;124mLogloss\u001b[39m\u001b[38;5;124m'\u001b[39m\n\u001b[0;32m   1635\u001b[0m \u001b[38;5;28;01melif\u001b[39;00m estimator_type \u001b[38;5;241m==\u001b[39m \u001b[38;5;124m'\u001b[39m\u001b[38;5;124mranker\u001b[39m\u001b[38;5;124m'\u001b[39m:\n",
      "\u001b[1;31mTypeError\u001b[0m: unhashable type: 'numpy.ndarray'"
     ]
    }
   ],
   "source": [
    "cat_meta = CatBoostClassifier(depth=8, learning_rate=0.05, verbose=False)\n",
    "#loss_function='MultiClass',\n",
    "cat_meta.fit(X_train, y_train)"
   ]
  },
  {
   "cell_type": "code",
   "execution_count": 18,
   "id": "6d65bace",
   "metadata": {},
   "outputs": [
    {
     "data": {
      "text/plain": [
       "0.06875126629296954"
      ]
     },
     "execution_count": 18,
     "metadata": {},
     "output_type": "execute_result"
    }
   ],
   "source": [
    "f1_score(y_train, cat_meta.predict(X_train), average = 'macro')"
   ]
  },
  {
   "cell_type": "code",
   "execution_count": 19,
   "id": "7a4c13f2",
   "metadata": {},
   "outputs": [
    {
     "data": {
      "text/plain": [
       "0.08594594594594594"
      ]
     },
     "execution_count": 19,
     "metadata": {},
     "output_type": "execute_result"
    }
   ],
   "source": [
    "f1_score(y_test, cat_meta.predict(X_test), average = 'macro')"
   ]
  }
 ],
 "metadata": {
  "kernelspec": {
   "display_name": "Python 3 (ipykernel)",
   "language": "python",
   "name": "python3"
  },
  "language_info": {
   "codemirror_mode": {
    "name": "ipython",
    "version": 3
   },
   "file_extension": ".py",
   "mimetype": "text/x-python",
   "name": "python",
   "nbconvert_exporter": "python",
   "pygments_lexer": "ipython3",
   "version": "3.11.4"
  }
 },
 "nbformat": 4,
 "nbformat_minor": 5
}
