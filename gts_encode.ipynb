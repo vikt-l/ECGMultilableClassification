{
 "cells": [
  {
   "cell_type": "code",
   "execution_count": 2,
   "id": "6516d41b",
   "metadata": {
    "scrolled": true
   },
   "outputs": [],
   "source": [
    "import pandas as pd\n",
    "from sklearn.model_selection import train_test_split\n",
    "from sklearn.metrics import f1_score, accuracy_score, precision_score, recall_score\n",
    "from catboost import CatBoostClassifier\n",
    "from numpy import*\n",
    "from category_encoders.target_encoder import TargetEncoder"
   ]
  },
  {
   "cell_type": "code",
   "execution_count": 33,
   "id": "2b7a6084",
   "metadata": {},
   "outputs": [],
   "source": [
    "df = pd.read_csv('train/train_meta.csv')\n",
    "#общие метаданные\n",
    "df_local = pd.read_csv('train/train_gts_final.csv')\n",
    "#метки локализации инфаркта/его отсутствия\n",
    "df_myocard = pd.read_csv('train/train_gts.csv')\n",
    "#инфаркт/его отсутствие"
   ]
  },
  {
   "cell_type": "markdown",
   "id": "81b108e5",
   "metadata": {},
   "source": [
    "### Преобразование в строковые, сложение и применение целевого кодирования"
   ]
  },
  {
   "cell_type": "code",
   "execution_count": 265,
   "id": "17714ff0",
   "metadata": {},
   "outputs": [],
   "source": [
    "pred_value = df_local['перегородочный'].astype(str) + '_' + df_local['передний'].astype(str) \\\n",
    "    + '_' + df_local['боковой'].astype(str) + '_' + df_local['передне-боковой'].astype(str) \\\n",
    "    + '_' + df_local['передне-перегородочный'].astype(str) + '_' + df_local['нижний'].astype(str) \\\n",
    "    + '_' + df_local['норма'].astype(str)\n",
    "df_local.insert(0, 'pred_value', pred_value)\n",
    "#объединение предсказываемых величин\n",
    "\n",
    "target_encoder_pred_value = TargetEncoder()\n",
    "target_encoder_pred_value.fit(df_local.pred_value, df_gts['myocard'])\n",
    "target_encoded_pred_value = target_encoder_pred_value.transform(df_local.pred_value)\n",
    "df_local.pred_value = target_encoded_pred_value.astype('float')\n",
    "\n",
    "df_local.drop(['перегородочный', 'передний', 'боковой', 'передне-боковой', 'передне-перегородочный',\n",
    "               'нижний', 'норма', 'record_name'], axis= 1 , inplace= True )"
   ]
  },
  {
   "cell_type": "code",
   "execution_count": 266,
   "id": "e76bee87",
   "metadata": {},
   "outputs": [
    {
     "data": {
      "text/plain": [
       "pred_value\n",
       "0.000000      1686\n",
       "0.999999       159\n",
       "0.999338        91\n",
       "0.949465        47\n",
       "0.904343        40\n",
       "0.481877        28\n",
       "0.697033        25\n",
       "0.429481        11\n",
       "0.383278         8\n",
       "0.321480         3\n",
       "0.311357         2\n",
       "0.301934         1\n",
       "dtype: int64"
      ]
     },
     "execution_count": 266,
     "metadata": {},
     "output_type": "execute_result"
    }
   ],
   "source": [
    "df_local.value_counts()"
   ]
  },
  {
   "cell_type": "markdown",
   "id": "dcb40bf2",
   "metadata": {},
   "source": [
    "### Преобразование в строковые и сложение"
   ]
  },
  {
   "cell_type": "code",
   "execution_count": 284,
   "id": "6d2405e1",
   "metadata": {},
   "outputs": [],
   "source": [
    "df_local = pd.read_csv('train/train_gts_final.csv')\n",
    "#метки локализации инфаркта/его отсутствия"
   ]
  },
  {
   "cell_type": "code",
   "execution_count": 34,
   "id": "583841bd",
   "metadata": {},
   "outputs": [],
   "source": [
    "pred_value = df_local['перегородочный'].astype(str) + df_local['передний'].astype(str) \\\n",
    "    + df_local['боковой'].astype(str) + df_local['передне-боковой'].astype(str) \\\n",
    "    + df_local['передне-перегородочный'].astype(str) + df_local['нижний'].astype(str) \\\n",
    "    + df_local['норма'].astype(str)\n",
    "df_local.insert(0, 'pred_value', pred_value)\n",
    "#объединение предсказываемых величин\n",
    "\n",
    "df_local.drop(['перегородочный', 'передний', 'боковой', 'передне-боковой', 'передне-перегородочный',\n",
    "               'нижний', 'норма', 'record_name'], axis= 1 , inplace= True )"
   ]
  },
  {
   "cell_type": "code",
   "execution_count": 35,
   "id": "3484fb3c",
   "metadata": {},
   "outputs": [
    {
     "data": {
      "text/plain": [
       "pred_value\n",
       "0000001       1686\n",
       "0000010        159\n",
       "0000100         91\n",
       "1000000         47\n",
       "0100000         40\n",
       "0000110         25\n",
       "0001000         14\n",
       "0100010         14\n",
       "1000010         11\n",
       "0001010          8\n",
       "0001100          3\n",
       "0010000          2\n",
       "0101010          1\n",
       "dtype: int64"
      ]
     },
     "execution_count": 35,
     "metadata": {},
     "output_type": "execute_result"
    }
   ],
   "source": [
    "df_local.value_counts()"
   ]
  },
  {
   "cell_type": "code",
   "execution_count": 36,
   "id": "d1ddd4cc",
   "metadata": {},
   "outputs": [],
   "source": [
    "combo_info = df['weight'].astype(str) + '_' + df['height'].astype(str) \\\n",
    "    + '_' + df['age'].astype(str) + '_' + df['sex'].astype(str)\n",
    "df.insert(0, 'combo_info', combo_info)\n",
    "#объединение данных веса, роста, возраста и пола(во избежание переобучения)\n",
    "\n",
    "target_encoder_combo_info = TargetEncoder()\n",
    "target_encoder_combo_info.fit(df.combo_info, df_myocard['myocard'])\n",
    "target_encoded_combo_info = target_encoder_combo_info.transform(df.combo_info)\n",
    "df.combo_info = target_encoded_combo_info.astype('float')"
   ]
  },
  {
   "cell_type": "code",
   "execution_count": 37,
   "id": "9e0f1542",
   "metadata": {},
   "outputs": [],
   "source": [
    "df.drop(['record_name', 'weight', 'height', 'age', 'sex'], axis= 1 , inplace= True )"
   ]
  },
  {
   "cell_type": "code",
   "execution_count": 38,
   "id": "91008701",
   "metadata": {},
   "outputs": [],
   "source": [
    "X_train, X_test, y_train, y_test = train_test_split(df, df_local, train_size=0.9, random_state=0)"
   ]
  },
  {
   "cell_type": "code",
   "execution_count": 39,
   "id": "982d89a8",
   "metadata": {},
   "outputs": [
    {
     "data": {
      "text/plain": [
       "<catboost.core.CatBoostClassifier at 0x208df5fa2d0>"
      ]
     },
     "execution_count": 39,
     "metadata": {},
     "output_type": "execute_result"
    }
   ],
   "source": [
    "cat_meta = CatBoostClassifier(depth=8, learning_rate=0.05, verbose=False)\n",
    "#loss_function='MultiClass',\n",
    "cat_meta.fit(X_train, y_train)"
   ]
  },
  {
   "cell_type": "code",
   "execution_count": 40,
   "id": "6d65bace",
   "metadata": {},
   "outputs": [
    {
     "data": {
      "text/plain": [
       "0.32474043017296506"
      ]
     },
     "execution_count": 40,
     "metadata": {},
     "output_type": "execute_result"
    }
   ],
   "source": [
    "f1_score(y_train, cat_meta.predict(X_train), average = 'macro')"
   ]
  },
  {
   "cell_type": "code",
   "execution_count": 41,
   "id": "7a4c13f2",
   "metadata": {},
   "outputs": [
    {
     "data": {
      "text/plain": [
       "0.18589504735289553"
      ]
     },
     "execution_count": 41,
     "metadata": {},
     "output_type": "execute_result"
    }
   ],
   "source": [
    "f1_score(y_test, cat_meta.predict(X_test), average = 'macro')"
   ]
  }
 ],
 "metadata": {
  "kernelspec": {
   "display_name": "Python 3 (ipykernel)",
   "language": "python",
   "name": "python3"
  },
  "language_info": {
   "codemirror_mode": {
    "name": "ipython",
    "version": 3
   },
   "file_extension": ".py",
   "mimetype": "text/x-python",
   "name": "python",
   "nbconvert_exporter": "python",
   "pygments_lexer": "ipython3",
   "version": "3.11.4"
  }
 },
 "nbformat": 4,
 "nbformat_minor": 5
}
